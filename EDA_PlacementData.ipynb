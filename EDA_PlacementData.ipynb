{
  "nbformat": 4,
  "nbformat_minor": 0,
  "metadata": {
    "colab": {
      "name": "EDA_PlacementData.ipynb",
      "provenance": [],
      "authorship_tag": "ABX9TyPOXg1BbNnr57LbEWCbBogH",
      "include_colab_link": true
    },
    "kernelspec": {
      "name": "python3",
      "display_name": "Python 3"
    }
  },
  "cells": [
    {
      "cell_type": "markdown",
      "metadata": {
        "id": "view-in-github",
        "colab_type": "text"
      },
      "source": [
        "<a href=\"https://colab.research.google.com/github/harshavallabhaneni56/EDA_PlacementData/blob/master/EDA_PlacementData.ipynb\" target=\"_parent\"><img src=\"https://colab.research.google.com/assets/colab-badge.svg\" alt=\"Open In Colab\"/></a>"
      ]
    },
    {
      "cell_type": "code",
      "metadata": {
        "id": "6LlM7mnOnBGE",
        "colab_type": "code",
        "colab": {
          "base_uri": "https://localhost:8080/",
          "height": 125
        },
        "outputId": "e7d2b896-2d0d-47f3-8e23-9909f01ead4d"
      },
      "source": [
        "from google.colab import drive\n",
        "drive.mount('/content/drive/')"
      ],
      "execution_count": 1,
      "outputs": [
        {
          "output_type": "stream",
          "text": [
            "Go to this URL in a browser: https://accounts.google.com/o/oauth2/auth?client_id=947318989803-6bn6qk8qdgf4n4g3pfee6491hc0brc4i.apps.googleusercontent.com&redirect_uri=urn%3aietf%3awg%3aoauth%3a2.0%3aoob&response_type=code&scope=email%20https%3a%2f%2fwww.googleapis.com%2fauth%2fdocs.test%20https%3a%2f%2fwww.googleapis.com%2fauth%2fdrive%20https%3a%2f%2fwww.googleapis.com%2fauth%2fdrive.photos.readonly%20https%3a%2f%2fwww.googleapis.com%2fauth%2fpeopleapi.readonly\n",
            "\n",
            "Enter your authorization code:\n",
            "··········\n",
            "Mounted at /content/drive/\n"
          ],
          "name": "stdout"
        }
      ]
    },
    {
      "cell_type": "code",
      "metadata": {
        "id": "BIjFR0UUow0a",
        "colab_type": "code",
        "colab": {
          "base_uri": "https://localhost:8080/",
          "height": 263
        },
        "outputId": "1e248ec9-0606-4275-e804-f5b0629e430f"
      },
      "source": [
        "import numpy as np \n",
        "import pandas as pd\n",
        "from matplotlib import pyplot as plt\n",
        "import seaborn as sb\n",
        "datapath='/content/drive/My Drive/Placement_Data_Full_Class.csv'\n",
        "data=pd.read_csv(datapath)\n",
        "print(data)\n"
      ],
      "execution_count": 7,
      "outputs": [
        {
          "output_type": "stream",
          "text": [
            "     sl_no gender  ssc_p    ssc_b  ...  specialisation  mba_p      status    salary\n",
            "0        1      M  67.00   Others  ...          Mkt&HR  58.80      Placed  270000.0\n",
            "1        2      M  79.33  Central  ...         Mkt&Fin  66.28      Placed  200000.0\n",
            "2        3      M  65.00  Central  ...         Mkt&Fin  57.80      Placed  250000.0\n",
            "3        4      M  56.00  Central  ...          Mkt&HR  59.43  Not Placed       NaN\n",
            "4        5      M  85.80  Central  ...         Mkt&Fin  55.50      Placed  425000.0\n",
            "..     ...    ...    ...      ...  ...             ...    ...         ...       ...\n",
            "210    211      M  80.60   Others  ...         Mkt&Fin  74.49      Placed  400000.0\n",
            "211    212      M  58.00   Others  ...         Mkt&Fin  53.62      Placed  275000.0\n",
            "212    213      M  67.00   Others  ...         Mkt&Fin  69.72      Placed  295000.0\n",
            "213    214      F  74.00   Others  ...          Mkt&HR  60.23      Placed  204000.0\n",
            "214    215      M  62.00  Central  ...          Mkt&HR  60.22  Not Placed       NaN\n",
            "\n",
            "[215 rows x 15 columns]\n"
          ],
          "name": "stdout"
        }
      ]
    },
    {
      "cell_type": "code",
      "metadata": {
        "id": "JZuClYUKqpXP",
        "colab_type": "code",
        "colab": {
          "base_uri": "https://localhost:8080/",
          "height": 297
        },
        "outputId": "c240cc61-bbab-42da-c60a-8522d96691c5"
      },
      "source": [
        "sb.countplot(data['status'],hue=data['gender'])"
      ],
      "execution_count": 10,
      "outputs": [
        {
          "output_type": "execute_result",
          "data": {
            "text/plain": [
              "<matplotlib.axes._subplots.AxesSubplot at 0x7f29026a89e8>"
            ]
          },
          "metadata": {
            "tags": []
          },
          "execution_count": 10
        },
        {
          "output_type": "display_data",
          "data": {
            "image/png": "[encoded data removed]",
            "text/plain": [
              "<Figure size 432x288 with 1 Axes>"
            ]
          },
          "metadata": {
            "tags": [],
            "needs_background": "light"
          }
        }
      ]
    },
    {
      "cell_type": "markdown",
      "metadata": {
        "id": "nm9FRqPGqzma",
        "colab_type": "text"
      },
      "source": [
        "From the above data we can know that male students are placed more than the female students"
      ]
    },
    {
      "cell_type": "code",
      "metadata": {
        "id": "wFo7gT-Rq7rO",
        "colab_type": "code",
        "colab": {}
      },
      "source": [
        ""
      ],
      "execution_count": 0,
      "outputs": []
    }
  ]
}